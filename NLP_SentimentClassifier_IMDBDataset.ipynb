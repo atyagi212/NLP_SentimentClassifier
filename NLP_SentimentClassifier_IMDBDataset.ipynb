{
  "nbformat": 4,
  "nbformat_minor": 0,
  "metadata": {
    "colab": {
      "provenance": []
    },
    "kernelspec": {
      "name": "python3",
      "display_name": "Python 3"
    },
    "language_info": {
      "name": "python"
    }
  },
  "cells": [
    {
      "cell_type": "code",
      "execution_count": null,
      "metadata": {
        "colab": {
          "base_uri": "https://localhost:8080/"
        },
        "id": "0bavQWUJHQeQ",
        "outputId": "b1bdbac2-1857-4f85-9a94-e549c9669f9a"
      },
      "outputs": [
        {
          "output_type": "stream",
          "name": "stdout",
          "text": [
            "Looking in indexes: https://pypi.org/simple, https://us-python.pkg.dev/colab-wheels/public/simple/\n",
            "Requirement already satisfied: nltk in /usr/local/lib/python3.9/dist-packages (3.8.1)\n",
            "Requirement already satisfied: click in /usr/local/lib/python3.9/dist-packages (from nltk) (8.1.3)\n",
            "Requirement already satisfied: tqdm in /usr/local/lib/python3.9/dist-packages (from nltk) (4.65.0)\n",
            "Requirement already satisfied: joblib in /usr/local/lib/python3.9/dist-packages (from nltk) (1.1.1)\n",
            "Requirement already satisfied: regex>=2021.8.3 in /usr/local/lib/python3.9/dist-packages (from nltk) (2022.10.31)\n"
          ]
        }
      ],
      "source": [
        "!pip install nltk"
      ]
    },
    {
      "cell_type": "code",
      "source": [
        "import nltk\n",
        "nltk.download('punkt')\n",
        "nltk.download('stopwords')\n",
        "nltk.download('wordnet')"
      ],
      "metadata": {
        "colab": {
          "base_uri": "https://localhost:8080/"
        },
        "id": "kCWRn1tLI9oq",
        "outputId": "9e8d078c-5870-4929-b406-f28d4963185d"
      },
      "execution_count": null,
      "outputs": [
        {
          "output_type": "stream",
          "name": "stderr",
          "text": [
            "[nltk_data] Downloading package punkt to /root/nltk_data...\n",
            "[nltk_data]   Unzipping tokenizers/punkt.zip.\n",
            "[nltk_data] Downloading package stopwords to /root/nltk_data...\n",
            "[nltk_data]   Unzipping corpora/stopwords.zip.\n",
            "[nltk_data] Downloading package wordnet to /root/nltk_data...\n"
          ]
        },
        {
          "output_type": "execute_result",
          "data": {
            "text/plain": [
              "True"
            ]
          },
          "metadata": {},
          "execution_count": 2
        }
      ]
    },
    {
      "cell_type": "code",
      "source": [
        "from nltk.tokenize import word_tokenize\n",
        "from nltk.corpus import stopwords\n",
        "from nltk.stem import WordNetLemmatizer\n",
        "from nltk.stem import PorterStemmer\n",
        "import string\n",
        "\n",
        "def preprocess_text(text):\n",
        "    # Remove punctuation\n",
        "    text = text.translate(str.maketrans('', '', string.punctuation))\n",
        "\n",
        "    # Perform tokenization\n",
        "    tokens = word_tokenize(text.lower())\n",
        "\n",
        "    # Remove stopwords\n",
        "    stop_words = set(stopwords.words('english'))\n",
        "    filtered_tokens = [token for token in tokens if token not in stop_words]\n",
        "\n",
        "    # Lemmatize the text\n",
        "    lemmatizer = WordNetLemmatizer()\n",
        "    lemmatized_tokens = [lemmatizer.lemmatize(token) for token in filtered_tokens]\n",
        "\n",
        "    # Stem the text\n",
        "    stemmer = PorterStemmer()\n",
        "    stemmed_tokens = [stemmer.stem(token) for token in lemmatized_tokens]\n",
        "\n",
        "    # Join the stemmed tokens back into a single string\n",
        "    preprocessed_text = ' '.join(stemmed_tokens)\n",
        "\n",
        "    return preprocessed_text\n"
      ],
      "metadata": {
        "id": "4F8EB69iJcrJ"
      },
      "execution_count": null,
      "outputs": []
    },
    {
      "cell_type": "code",
      "source": [
        "import pandas as pd\n",
        "\n",
        "df = pd.read_excel('/content/sample_data/IMDB_dataset.xlsx')  "
      ],
      "metadata": {
        "id": "Ci27D9tvKtnt"
      },
      "execution_count": null,
      "outputs": []
    },
    {
      "cell_type": "code",
      "source": [
        "df.head()"
      ],
      "metadata": {
        "colab": {
          "base_uri": "https://localhost:8080/",
          "height": 206
        },
        "id": "mhNW6vKpPnKI",
        "outputId": "94021b5f-6169-4cb4-a8c2-c5681a2d8d69"
      },
      "execution_count": null,
      "outputs": [
        {
          "output_type": "execute_result",
          "data": {
            "text/plain": [
              "                                              review sentiment\n",
              "0  I thought this was a wonderful way to spend ti...  positive\n",
              "1  Probably my all-time favorite movie, a story o...  positive\n",
              "2  I sure would like to see a resurrection of a u...  positive\n",
              "3  This show was an amazing, fresh & innovative i...  negative\n",
              "4  Encouraged by the positive comments about this...  negative"
            ],
            "text/html": [
              "\n",
              "  <div id=\"df-2f504587-1048-4658-91d0-43fe1a2bfb97\">\n",
              "    <div class=\"colab-df-container\">\n",
              "      <div>\n",
              "<style scoped>\n",
              "    .dataframe tbody tr th:only-of-type {\n",
              "        vertical-align: middle;\n",
              "    }\n",
              "\n",
              "    .dataframe tbody tr th {\n",
              "        vertical-align: top;\n",
              "    }\n",
              "\n",
              "    .dataframe thead th {\n",
              "        text-align: right;\n",
              "    }\n",
              "</style>\n",
              "<table border=\"1\" class=\"dataframe\">\n",
              "  <thead>\n",
              "    <tr style=\"text-align: right;\">\n",
              "      <th></th>\n",
              "      <th>review</th>\n",
              "      <th>sentiment</th>\n",
              "    </tr>\n",
              "  </thead>\n",
              "  <tbody>\n",
              "    <tr>\n",
              "      <th>0</th>\n",
              "      <td>I thought this was a wonderful way to spend ti...</td>\n",
              "      <td>positive</td>\n",
              "    </tr>\n",
              "    <tr>\n",
              "      <th>1</th>\n",
              "      <td>Probably my all-time favorite movie, a story o...</td>\n",
              "      <td>positive</td>\n",
              "    </tr>\n",
              "    <tr>\n",
              "      <th>2</th>\n",
              "      <td>I sure would like to see a resurrection of a u...</td>\n",
              "      <td>positive</td>\n",
              "    </tr>\n",
              "    <tr>\n",
              "      <th>3</th>\n",
              "      <td>This show was an amazing, fresh &amp; innovative i...</td>\n",
              "      <td>negative</td>\n",
              "    </tr>\n",
              "    <tr>\n",
              "      <th>4</th>\n",
              "      <td>Encouraged by the positive comments about this...</td>\n",
              "      <td>negative</td>\n",
              "    </tr>\n",
              "  </tbody>\n",
              "</table>\n",
              "</div>\n",
              "      <button class=\"colab-df-convert\" onclick=\"convertToInteractive('df-2f504587-1048-4658-91d0-43fe1a2bfb97')\"\n",
              "              title=\"Convert this dataframe to an interactive table.\"\n",
              "              style=\"display:none;\">\n",
              "        \n",
              "  <svg xmlns=\"http://www.w3.org/2000/svg\" height=\"24px\"viewBox=\"0 0 24 24\"\n",
              "       width=\"24px\">\n",
              "    <path d=\"M0 0h24v24H0V0z\" fill=\"none\"/>\n",
              "    <path d=\"M18.56 5.44l.94 2.06.94-2.06 2.06-.94-2.06-.94-.94-2.06-.94 2.06-2.06.94zm-11 1L8.5 8.5l.94-2.06 2.06-.94-2.06-.94L8.5 2.5l-.94 2.06-2.06.94zm10 10l.94 2.06.94-2.06 2.06-.94-2.06-.94-.94-2.06-.94 2.06-2.06.94z\"/><path d=\"M17.41 7.96l-1.37-1.37c-.4-.4-.92-.59-1.43-.59-.52 0-1.04.2-1.43.59L10.3 9.45l-7.72 7.72c-.78.78-.78 2.05 0 2.83L4 21.41c.39.39.9.59 1.41.59.51 0 1.02-.2 1.41-.59l7.78-7.78 2.81-2.81c.8-.78.8-2.07 0-2.86zM5.41 20L4 18.59l7.72-7.72 1.47 1.35L5.41 20z\"/>\n",
              "  </svg>\n",
              "      </button>\n",
              "      \n",
              "  <style>\n",
              "    .colab-df-container {\n",
              "      display:flex;\n",
              "      flex-wrap:wrap;\n",
              "      gap: 12px;\n",
              "    }\n",
              "\n",
              "    .colab-df-convert {\n",
              "      background-color: #E8F0FE;\n",
              "      border: none;\n",
              "      border-radius: 50%;\n",
              "      cursor: pointer;\n",
              "      display: none;\n",
              "      fill: #1967D2;\n",
              "      height: 32px;\n",
              "      padding: 0 0 0 0;\n",
              "      width: 32px;\n",
              "    }\n",
              "\n",
              "    .colab-df-convert:hover {\n",
              "      background-color: #E2EBFA;\n",
              "      box-shadow: 0px 1px 2px rgba(60, 64, 67, 0.3), 0px 1px 3px 1px rgba(60, 64, 67, 0.15);\n",
              "      fill: #174EA6;\n",
              "    }\n",
              "\n",
              "    [theme=dark] .colab-df-convert {\n",
              "      background-color: #3B4455;\n",
              "      fill: #D2E3FC;\n",
              "    }\n",
              "\n",
              "    [theme=dark] .colab-df-convert:hover {\n",
              "      background-color: #434B5C;\n",
              "      box-shadow: 0px 1px 3px 1px rgba(0, 0, 0, 0.15);\n",
              "      filter: drop-shadow(0px 1px 2px rgba(0, 0, 0, 0.3));\n",
              "      fill: #FFFFFF;\n",
              "    }\n",
              "  </style>\n",
              "\n",
              "      <script>\n",
              "        const buttonEl =\n",
              "          document.querySelector('#df-2f504587-1048-4658-91d0-43fe1a2bfb97 button.colab-df-convert');\n",
              "        buttonEl.style.display =\n",
              "          google.colab.kernel.accessAllowed ? 'block' : 'none';\n",
              "\n",
              "        async function convertToInteractive(key) {\n",
              "          const element = document.querySelector('#df-2f504587-1048-4658-91d0-43fe1a2bfb97');\n",
              "          const dataTable =\n",
              "            await google.colab.kernel.invokeFunction('convertToInteractive',\n",
              "                                                     [key], {});\n",
              "          if (!dataTable) return;\n",
              "\n",
              "          const docLinkHtml = 'Like what you see? Visit the ' +\n",
              "            '<a target=\"_blank\" href=https://colab.research.google.com/notebooks/data_table.ipynb>data table notebook</a>'\n",
              "            + ' to learn more about interactive tables.';\n",
              "          element.innerHTML = '';\n",
              "          dataTable['output_type'] = 'display_data';\n",
              "          await google.colab.output.renderOutput(dataTable, element);\n",
              "          const docLink = document.createElement('div');\n",
              "          docLink.innerHTML = docLinkHtml;\n",
              "          element.appendChild(docLink);\n",
              "        }\n",
              "      </script>\n",
              "    </div>\n",
              "  </div>\n",
              "  "
            ]
          },
          "metadata": {},
          "execution_count": 18
        }
      ]
    },
    {
      "cell_type": "code",
      "source": [
        "df.shape"
      ],
      "metadata": {
        "colab": {
          "base_uri": "https://localhost:8080/"
        },
        "id": "FlmczsoyYvv4",
        "outputId": "e84150b6-8b49-46ef-ae37-33638cd3391d"
      },
      "execution_count": null,
      "outputs": [
        {
          "output_type": "execute_result",
          "data": {
            "text/plain": [
              "(25000, 2)"
            ]
          },
          "metadata": {},
          "execution_count": 19
        }
      ]
    },
    {
      "cell_type": "markdown",
      "source": [
        "using a total of 6000 samples due to memory constraints. to keep the data unbiased i have taken 3000 positive reviews and 3000 negative reviews. "
      ],
      "metadata": {
        "id": "3xMImvTfag03"
      }
    },
    {
      "cell_type": "code",
      "source": [
        "# Select 3,000 positive and 3,000 negative reviews\n",
        "positive_reviews = df[df['sentiment'] == 'positive'].sample(n=3000, random_state=42)\n",
        "negative_reviews = df[df['sentiment'] == 'negative'].sample(n=3000, random_state=42)\n",
        "\n",
        "# Concatenate the positive and negative reviews into a new dataframe\n",
        "selected_reviews = pd.concat([positive_reviews, negative_reviews], ignore_index=True)\n",
        "\n",
        "# Print the shape and first few rows of the selected_reviews dataframe\n",
        "print(\"Shape of selected_reviews dataframe: \", selected_reviews.shape)\n",
        "print(\"First few rows of selected_reviews dataframe: \\n\", selected_reviews.head())\n"
      ],
      "metadata": {
        "colab": {
          "base_uri": "https://localhost:8080/"
        },
        "id": "oXIr8SQsYzcy",
        "outputId": "517bfc82-f0d9-47d6-993b-54312174e4ec"
      },
      "execution_count": null,
      "outputs": [
        {
          "output_type": "stream",
          "name": "stdout",
          "text": [
            "Shape of selected_reviews dataframe:  (6000, 2)\n",
            "First few rows of selected_reviews dataframe: \n",
            "                                               review sentiment\n",
            "0  Of course the average \"Sci-Fi\" Battle Star Gal...  positive\n",
            "1  Sorry to say I have no idea what Hollywood is ...  positive\n",
            "2  \"The Lady from Shanghai\" is well known as one ...  positive\n",
            "3  Ed Harris and Cuba Gooding Jr. where cast perf...  positive\n",
            "4  Kate Miller (Angie Dickinson) is having proble...  positive\n"
          ]
        }
      ]
    },
    {
      "cell_type": "code",
      "source": [
        "# Apply the preprocess_text() function to the 'review' column\n",
        "selected_reviews['review'] = selected_reviews['review'].apply(preprocess_text)"
      ],
      "metadata": {
        "id": "SBGU71L-Ll3g"
      },
      "execution_count": null,
      "outputs": []
    },
    {
      "cell_type": "code",
      "source": [
        "from sklearn.feature_extraction.text import TfidfVectorizer\n",
        "\n",
        "# Initialize the TfidfVectorizer with desired parameters\n",
        "vectorizer = TfidfVectorizer(sublinear_tf=True, encoding='utf-8', decode_error='ignore', stop_words='english')\n",
        "\n",
        "# Fit and transform the preprocessed text data\n",
        "X = vectorizer.fit_transform(selected_reviews['review'])\n",
        "y = selected_reviews['sentiment']\n"
      ],
      "metadata": {
        "id": "50AVNVTcOOW1"
      },
      "execution_count": null,
      "outputs": []
    },
    {
      "cell_type": "code",
      "source": [
        "from sklearn.model_selection import train_test_split\n",
        "X_train, X_test, y_train, y_test = train_test_split(X, y, test_size=0.2, random_state=42)"
      ],
      "metadata": {
        "id": "OfA9JgQYTNBz"
      },
      "execution_count": null,
      "outputs": []
    },
    {
      "cell_type": "code",
      "source": [
        "# Convert string labels to binary labels\n",
        "from sklearn.preprocessing import LabelEncoder\n",
        "\n",
        "label_encoder = LabelEncoder()\n",
        "y_train = label_encoder.fit_transform(y_train)\n",
        "y_test = label_encoder.transform(y_test)"
      ],
      "metadata": {
        "id": "YYmQfj7chu4R"
      },
      "execution_count": null,
      "outputs": []
    },
    {
      "cell_type": "code",
      "source": [
        "from sklearn.model_selection import GridSearchCV\n",
        "from sklearn.ensemble import RandomForestClassifier\n",
        "from sklearn.metrics import accuracy_score\n",
        "\n",
        "# Define the parameter grid for Random Forest\n",
        "param_grid_rf = {\n",
        "    'n_estimators': [10, 25, 50],\n",
        "    'max_depth': [None, 10, 20],\n",
        "}\n",
        "\n",
        "# Initialize the Random Forest classifier\n",
        "rf_classifier = RandomForestClassifier(random_state=42)\n",
        "\n",
        "# Perform GridSearchCV for Random Forest\n",
        "grid_search_rf = GridSearchCV(rf_classifier, param_grid_rf, scoring='accuracy', cv=5)\n",
        "grid_search_rf.fit(X_train, y_train)\n",
        "\n",
        "# Print the best parameters and accuracy for Random Forest\n",
        "print(\"Best parameters for Random Forest: \", grid_search_rf.best_params_)\n",
        "print(\"Best accuracy for Random Forest: \", grid_search_rf.best_score_)\n"
      ],
      "metadata": {
        "colab": {
          "base_uri": "https://localhost:8080/"
        },
        "id": "k1SkCuXbOek7",
        "outputId": "756559ea-283b-45e5-9b76-f31e8594d3e3"
      },
      "execution_count": null,
      "outputs": [
        {
          "output_type": "stream",
          "name": "stdout",
          "text": [
            "Best parameters for Random Forest:  {'max_depth': None, 'n_estimators': 50}\n",
            "Best accuracy for Random Forest:  0.819375\n"
          ]
        }
      ]
    },
    {
      "cell_type": "code",
      "source": [
        "from sklearn.model_selection import GridSearchCV\n",
        "from xgboost import XGBClassifier\n",
        "from sklearn.metrics import accuracy_score\n",
        "\n",
        "# Define the parameter grid for XGBoost\n",
        "param_grid_xgb = {\n",
        "    'n_estimators': [5, 10, 25],\n",
        "    'learning_rate': [0.1, 0.05, 0.01],\n",
        "    'max_depth': [3, 5, 7],\n",
        "}\n",
        "\n",
        "# Initialize the XGBoost classifier\n",
        "xgb_classifier = XGBClassifier(random_state=42)\n",
        "\n",
        "# Perform GridSearchCV for XGBoost\n",
        "grid_search_xgb = GridSearchCV(xgb_classifier, param_grid_xgb, scoring='accuracy', cv=5)\n",
        "grid_search_xgb.fit(X_train, y_train)\n",
        "\n",
        "# Print the best parameters and accuracy for XGBoost\n",
        "print(\"Best parameters for XGBoost: \", grid_search_xgb.best_params_)\n",
        "print(\"Best accuracy for XGBoost: \", grid_search_xgb.best_score_)"
      ],
      "metadata": {
        "colab": {
          "base_uri": "https://localhost:8080/"
        },
        "id": "zYUxZYG1TXa3",
        "outputId": "e1b6e8a4-8efd-4629-af82-ac295d4c039b"
      },
      "execution_count": null,
      "outputs": [
        {
          "output_type": "stream",
          "name": "stdout",
          "text": [
            "Best parameters for XGBoost:  {'learning_rate': 0.1, 'max_depth': 7, 'n_estimators': 25}\n",
            "Best accuracy for XGBoost:  0.7822916666666666\n"
          ]
        }
      ]
    },
    {
      "cell_type": "code",
      "source": [
        "from sklearn.metrics import accuracy_score, precision_score, recall_score, f1_score\n",
        "\n",
        "# Initialize the Random Forest classifier with best parameters\n",
        "rf_classifier = RandomForestClassifier(n_estimators=50, max_depth=None, random_state=42)\n",
        "\n",
        "# Fit the Random Forest classifier to the training data\n",
        "rf_classifier.fit(X_train, y_train)\n",
        "\n",
        "# Make predictions on the test data\n",
        "y_pred_rf = rf_classifier.predict(X_test)\n",
        "\n",
        "# Calculate evaluation metrics\n",
        "accuracy_rf = accuracy_score(y_test, y_pred_rf)\n",
        "precision_rf = precision_score(y_test, y_pred_rf)\n",
        "recall_rf = recall_score(y_test, y_pred_rf)\n",
        "f1_score_rf = f1_score(y_test, y_pred_rf)\n",
        "\n",
        "# Print the evaluation metrics for Random Forest\n",
        "print(\"Accuracy for Random Forest: \", accuracy_rf)\n",
        "print(\"Precision for Random Forest: \", precision_rf)\n",
        "print(\"Recall for Random Forest: \", recall_rf)\n",
        "print(\"F1 Score for Random Forest: \", f1_score_rf)\n"
      ],
      "metadata": {
        "colab": {
          "base_uri": "https://localhost:8080/"
        },
        "id": "-_IwvqTSkXjc",
        "outputId": "3d66441d-92eb-4cb3-8210-31a661d1e7ac"
      },
      "execution_count": null,
      "outputs": [
        {
          "output_type": "stream",
          "name": "stdout",
          "text": [
            "Accuracy for Random Forest:  0.8375\n",
            "Precision for Random Forest:  0.8554421768707483\n",
            "Recall for Random Forest:  0.8205546492659054\n",
            "F1 Score for Random Forest:  0.8376353039134055\n"
          ]
        }
      ]
    },
    {
      "cell_type": "code",
      "source": [
        "from sklearn.metrics import accuracy_score, precision_score, recall_score, f1_score\n",
        "\n",
        "# Initialize the XGBoost classifier with best parameters\n",
        "xgb_classifier = XGBClassifier(n_estimators=25, learning_rate=0.1, max_depth=7, random_state=42)\n",
        "\n",
        "# Fit the XGBoost classifier to the training data\n",
        "xgb_classifier.fit(X_train, y_train)\n",
        "\n",
        "# Make predictions on the test data\n",
        "y_pred_xgb = xgb_classifier.predict(X_test)\n",
        "\n",
        "# Calculate evaluation metrics\n",
        "accuracy_xgb = accuracy_score(y_test, y_pred_xgb)\n",
        "precision_xgb = precision_score(y_test, y_pred_xgb)\n",
        "recall_xgb = recall_score(y_test, y_pred_xgb)\n",
        "f1_score_xgb = f1_score(y_test, y_pred_xgb)\n",
        "\n",
        "# Print the evaluation metrics for XGBoost\n",
        "print(\"Accuracy for XGBoost: \", accuracy_xgb)\n",
        "print(\"Precision for XGBoost: \", precision_xgb)\n",
        "print(\"Recall for XGBoost: \", recall_xgb)\n",
        "print(\"F1 Score for XGBoost: \", f1_score_xgb)\n"
      ],
      "metadata": {
        "colab": {
          "base_uri": "https://localhost:8080/"
        },
        "id": "pZROPjwqlfNG",
        "outputId": "d676509b-d828-4f0e-915f-aa50892b090d"
      },
      "execution_count": null,
      "outputs": [
        {
          "output_type": "stream",
          "name": "stdout",
          "text": [
            "Accuracy for XGBoost:  0.79\n",
            "Precision for XGBoost:  0.7604617604617605\n",
            "Recall for XGBoost:  0.8597063621533442\n",
            "F1 Score for XGBoost:  0.8070444104134762\n"
          ]
        }
      ]
    },
    {
      "cell_type": "markdown",
      "source": [
        "Based on the evaluation metrics, it can be observed that Random Forest outperformed XGBoost in terms of accuracy, precision, and F1 score, while XGBoost performed better in terms of recall.\n",
        "\n",
        "Accuracy: Random Forest achieved an accuracy of 0.8375, while XGBoost achieved an accuracy of 0.79. This means that Random Forest correctly predicted the sentiment of movie reviews with higher accuracy compared to XGBoost.\n",
        "\n",
        "Precision: Random Forest achieved a precision of 0.8554, while XGBoost achieved a precision of 0.7605. Precision measures the ability of a model to correctly predict positive or negative sentiment. A higher precision indicates that Random Forest made fewer false positive predictions compared to XGBoost.\n",
        "\n",
        "Recall: Random Forest achieved a recall of 0.8206, while XGBoost achieved a recall of 0.8597. Recall measures the ability of a model to correctly identify all positive or negative sentiment instances. A higher recall indicates that XGBoost made fewer false negative predictions compared to Random Forest.\n",
        "\n",
        "F1 Score: Random Forest achieved an F1 score of 0.8376, while XGBoost achieved an F1 score of 0.8070. Random Forest has a slightly higher F1 score compared to XGBoost."
      ],
      "metadata": {
        "id": "LW2Wu6G0nJKK"
      }
    },
    {
      "cell_type": "code",
      "source": [],
      "metadata": {
        "id": "mS7EP2_TnNar"
      },
      "execution_count": null,
      "outputs": []
    }
  ]
}